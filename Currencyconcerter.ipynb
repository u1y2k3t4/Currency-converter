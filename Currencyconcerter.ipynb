{
  "nbformat": 4,
  "nbformat_minor": 0,
  "metadata": {
    "colab": {
      "provenance": [],
      "authorship_tag": "ABX9TyP96So4gvRHcMDZtZ9I9eEW",
      "include_colab_link": true
    },
    "kernelspec": {
      "name": "python3",
      "display_name": "Python 3"
    },
    "language_info": {
      "name": "python"
    }
  },
  "cells": [
    {
      "cell_type": "markdown",
      "metadata": {
        "id": "view-in-github",
        "colab_type": "text"
      },
      "source": [
        "<a href=\"https://colab.research.google.com/github/u1y2k3t4/Currency-converter/blob/main/Currencyconcerter.ipynb\" target=\"_parent\"><img src=\"https://colab.research.google.com/assets/colab-badge.svg\" alt=\"Open In Colab\"/></a>"
      ]
    },
    {
      "cell_type": "code",
      "source": [
        "!pip install streamlit pyngrok forex-python --quiet"
      ],
      "metadata": {
        "id": "X_7JjQF3PxMa"
      },
      "execution_count": null,
      "outputs": []
    },
    {
      "cell_type": "code",
      "source": [
        "%%writefile app.py\n",
        "import streamlit as st\n",
        "from forex_python.converter import CurrencyRates\n",
        "\n",
        "st.set_page_config(page_title=\"Currency Converter\", page_icon=\"💱\")\n",
        "st.title(\"💱 Currency Converter using Real-time Exchange Rates\")\n",
        "st.markdown(\"Convert amounts between different currencies using real-time data.\")\n",
        "\n",
        "amount = st.number_input(\"Enter the amount:\", min_value=0.0, format=\"%.2f\")\n",
        "from_currency = st.selectbox(\"From Currency\", [\"USD\", \"EUR\", \"INR\", \"JPY\", \"GBP\", \"CAD\"])\n",
        "to_currency = st.selectbox(\"To Currency\", [\"USD\", \"EUR\", \"INR\", \"JPY\", \"GBP\", \"CAD\"])\n",
        "\n",
        "if st.button(\"Convert\"):\n",
        "    try:\n",
        "        c = CurrencyRates()\n",
        "        result = c.convert(from_currency, to_currency, amount)\n",
        "        st.success(f\"{amount:.2f} {from_currency} = {result:.2f} {to_currency}\")\n",
        "    except Exception as e:\n",
        "        st.error(f\"Error: {e}\")\n"
      ],
      "metadata": {
        "colab": {
          "base_uri": "https://localhost:8080/"
        },
        "id": "e2NYDZbyQZO4",
        "outputId": "06608af1-af28-48f2-da4a-b879cb46bdd6"
      },
      "execution_count": null,
      "outputs": [
        {
          "output_type": "stream",
          "name": "stdout",
          "text": [
            "Overwriting app.py\n"
          ]
        }
      ]
    },
    {
      "cell_type": "code",
      "source": [
        "import time\n",
        "import threading\n",
        "from pyngrok import ngrok, conf\n",
        "conf.get_default().auth_token = \"2yG5k7spyGQHJ0P8agrbRNumF6D_2HHWIHVJjbJM7PkF69mw8n\"\n",
        "!pkill streamlit\n",
        "def run():\n",
        "    !streamlit run app.py --server.port 8501 > /dev/null 2>&1\n",
        "\n",
        "threading.Thread(target=run).start()\n",
        "time.sleep(3)\n",
        "public_url = ngrok.connect(8501)\n",
        "print(f\"🔗 Open your app here: {public_url}\")\n"
      ],
      "metadata": {
        "colab": {
          "base_uri": "https://localhost:8080/"
        },
        "id": "44scvN55Qa1N",
        "outputId": "ebeafe83-260d-4299-8dc3-73f82e33057c"
      },
      "execution_count": null,
      "outputs": [
        {
          "output_type": "stream",
          "name": "stdout",
          "text": [
            "🔗 Open your app here: NgrokTunnel: \"https://8e72-35-233-213-80.ngrok-free.app\" -> \"http://localhost:8501\"\n"
          ]
        }
      ]
    }
  ]
}